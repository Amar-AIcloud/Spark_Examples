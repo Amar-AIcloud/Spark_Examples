{
 "cells": [
  {
   "cell_type": "markdown",
   "id": "0c3430a6",
   "metadata": {},
   "source": [
    "# Wordcount Program \n"
   ]
  },
  {
   "cell_type": "code",
   "execution_count": 1,
   "id": "b642e9a7",
   "metadata": {},
   "outputs": [],
   "source": [
    "'''\n",
    "Find the number of times a word repeats in the given text file\n",
    "'''\n",
    "# Wordcount\n",
    "import findspark\n",
    "findspark.init()\n",
    "\n",
    "from pyspark import SparkContext, SparkConf\n",
    "import os\n",
    "import shutil \n",
    "\n",
    "data_path = \"C:\\\\Users\\\\Documents\\\\\"\n",
    "\n"
   ]
  },
  {
   "cell_type": "code",
   "execution_count": 2,
   "id": "84f493f9",
   "metadata": {},
   "outputs": [
    {
     "data": {
      "text/plain": [
       "[('is', 4),\n",
       " ('execution', 2),\n",
       " ('framework', 2),\n",
       " ('run', 2),\n",
       " ('hadoop', 3),\n",
       " ('scala', 3),\n",
       " ('preferred', 2),\n",
       " ('language', 2),\n",
       " ('supports', 2),\n",
       " ('java', 3),\n",
       " ('python', 4),\n",
       " ('machine', 1),\n",
       " ('learning', 1),\n",
       " ('spark', 13),\n",
       " ('a', 2),\n",
       " ('general', 2),\n",
       " ('purpose', 2),\n",
       " ('can', 2),\n",
       " ('on', 2),\n",
       " ('for', 2),\n",
       " ('also', 2),\n",
       " ('and', 2),\n",
       " ('pyspark', 1),\n",
       " ('rdd', 5),\n",
       " ('sql', 2),\n",
       " ('pythom', 1)]"
      ]
     },
     "execution_count": 2,
     "metadata": {},
     "output_type": "execute_result"
    }
   ],
   "source": [
    "# Giving the configration- number of drivers and executers for running the job\n",
    "config = SparkConf().setAll([('spark.executor.memory', '4g'), ('spark.executor.cores', '2'), ('spark.cores.max', '2'), ('spark.driver.memory','4g')])  \\\n",
    "                    .setAppName('Wordcount')\n",
    "\n",
    "sc = SparkContext(conf=config)\n",
    "\n",
    "       \n",
    "text_file = sc.textFile(os.path.join(data_path, \"wordcount.txt\") )\n",
    "        \n",
    "wordcount = text_file.flatMap(lambda line: line.split(\" \"))  \\\n",
    "                .map(lambda word: (word, 1)) \\\n",
    "                .reduceByKey(lambda a, b: a + b)\n",
    "    \n",
    "wordcount.collect()"
   ]
  },
  {
   "cell_type": "code",
   "execution_count": 3,
   "id": "4cdb6cb9",
   "metadata": {},
   "outputs": [],
   "source": [
    "sc.stop()"
   ]
  },
  {
   "cell_type": "markdown",
   "id": "4d749759",
   "metadata": {},
   "source": [
    "# SortGroup"
   ]
  },
  {
   "cell_type": "code",
   "execution_count": 4,
   "id": "66447104",
   "metadata": {},
   "outputs": [
    {
     "name": "stdout",
     "output_type": "stream",
     "text": [
      "[('A', 7568), ('J', 5913), ('M', 4637), ('C', 3699), ('L', 3479)]\n"
     ]
    }
   ],
   "source": [
    "'''\n",
    "Problem Statement:\n",
    "    Find the top 5 by count of starting letter of the name from Baby_Names dataset\n",
    "    Show the starting letter of the name with count arranged in the descending order of count\n",
    "'''\n",
    "\n",
    "import findspark\n",
    "findspark.init()\n",
    "\n",
    "import os\n",
    "from pyspark import SparkContext\n",
    "\n",
    "sc = SparkContext(\"local\", \"sortGroup\")\n",
    "\n",
    "data_path = \"C:\\\\Users\\\\Documents\"\n",
    "\n",
    "baby_names_csv_file = os.path.join(data_path, \"Baby_Names.csv\")\n",
    "\n",
    "baby_names = sc.textFile(baby_names_csv_file) \\\n",
    "               .map(lambda line: line.split(\",\")) \\\n",
    "               .map(lambda arr: arr[1])  \\\n",
    "               .groupBy(lambda name: name[0]) \\\n",
    "               .map(lambda t: (t[0], len(t[1]))) \\\n",
    "               .sortBy(lambda a: a[1], ascending=False)\n",
    "\n",
    "\n",
    "print( baby_names.take(5) )"
   ]
  },
  {
   "cell_type": "code",
   "execution_count": 5,
   "id": "23ef9df7",
   "metadata": {},
   "outputs": [],
   "source": [
    "sc.stop()"
   ]
  },
  {
   "cell_type": "code",
   "execution_count": null,
   "id": "202fbcea",
   "metadata": {},
   "outputs": [],
   "source": []
  }
 ],
 "metadata": {
  "kernelspec": {
   "display_name": "Python 3 (ipykernel)",
   "language": "python",
   "name": "python3"
  },
  "language_info": {
   "codemirror_mode": {
    "name": "ipython",
    "version": 3
   },
   "file_extension": ".py",
   "mimetype": "text/x-python",
   "name": "python",
   "nbconvert_exporter": "python",
   "pygments_lexer": "ipython3",
   "version": "3.9.7"
  }
 },
 "nbformat": 4,
 "nbformat_minor": 5
}
