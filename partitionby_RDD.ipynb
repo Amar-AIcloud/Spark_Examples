{
 "cells": [
  {
   "cell_type": "code",
   "execution_count": 1,
   "id": "f55e1f2f",
   "metadata": {},
   "outputs": [
    {
     "name": "stdout",
     "output_type": "stream",
     "text": [
      "[{'name': 'Raju', 'amount': 100, 'city': 'Chennai'}, {'name': 'Mahesh', 'amount': 15, 'city': 'Hyderabad'}, {'name': 'Keertana', 'amount': 105, 'city': 'Vijayawada'}, {'name': 'Madhu', 'amount': 51, 'city': 'Hyderabad'}, {'name': 'Revati', 'amount': 200, 'city': 'Chennai'}, {'name': 'Amrita', 'amount': 75, 'city': 'Pune'}, {'name': 'Aditya', 'amount': 175, 'city': 'Bangal   ore'}, {'name': 'Keertana', 'amount': 105, 'city': 'Pune'}, {'name': 'Keertana', 'amount': 105, 'city': 'Vijayawada'}, {'name': 'Keertana', 'amount': 105, 'city': 'Vijayawada'}]\n"
     ]
    }
   ],
   "source": [
    "import findspark\n",
    "findspark.init()\n",
    "from pyspark import SparkContext\n",
    "\n",
    "\n",
    "transactions = [\n",
    "    {'name': 'Raju', 'amount': 100, 'city': 'Chennai'},\n",
    "    {'name': 'Mahesh', 'amount': 15, 'city': 'Hyderabad'},    \n",
    "    {'name': 'Keertana', 'amount': 105, 'city': 'Vijayawada'},\n",
    "    {'name': 'Madhu', 'amount': 51, 'city': 'Hyderabad'},\n",
    "    {'name': 'Revati', 'amount': 200, 'city': 'Chennai'},\n",
    "    {'name': 'Amrita', 'amount': 75, 'city': 'Pune'},\n",
    "    {'name': 'Aditya', 'amount': 175, 'city': 'Bangal   ore'},\n",
    "    {'name': 'Keertana', 'amount': 105, 'city': 'Pune'},\n",
    "    {'name': 'Keertana', 'amount': 105, 'city': 'Vijayawada'},\n",
    "    {'name': 'Keertana', 'amount': 105, 'city': 'Vijayawada'}]\n",
    "\n",
    "print(transactions)"
   ]
  },
  {
   "cell_type": "code",
   "execution_count": 2,
   "id": "162a68e6",
   "metadata": {},
   "outputs": [
    {
     "data": {
      "text/plain": [
       "[('Chennai', {'name': 'Raju', 'amount': 100, 'city': 'Chennai'}),\n",
       " ('Hyderabad', {'name': 'Mahesh', 'amount': 15, 'city': 'Hyderabad'}),\n",
       " ('Vijayawada', {'name': 'Keertana', 'amount': 105, 'city': 'Vijayawada'}),\n",
       " ('Hyderabad', {'name': 'Madhu', 'amount': 51, 'city': 'Hyderabad'}),\n",
       " ('Chennai', {'name': 'Revati', 'amount': 200, 'city': 'Chennai'}),\n",
       " ('Pune', {'name': 'Amrita', 'amount': 75, 'city': 'Pune'}),\n",
       " ('Bangal   ore', {'name': 'Aditya', 'amount': 175, 'city': 'Bangal   ore'}),\n",
       " ('Pune', {'name': 'Keertana', 'amount': 105, 'city': 'Pune'}),\n",
       " ('Vijayawada', {'name': 'Keertana', 'amount': 105, 'city': 'Vijayawada'}),\n",
       " ('Vijayawada', {'name': 'Keertana', 'amount': 105, 'city': 'Vijayawada'})]"
      ]
     },
     "execution_count": 2,
     "metadata": {},
     "output_type": "execute_result"
    }
   ],
   "source": [
    "sc=SparkContext(\"local\", \"partitionby\")\n",
    "\n",
    "def custom_partitioner(city): \n",
    "    if (city == 'Chennai'):\n",
    "        return 0;\n",
    "    elif (city == 'Hyderabad'):\n",
    "        return 1;\n",
    "    elif (city == 'Vijayawada'):\n",
    "        return 1;\n",
    "    elif (city == 'Pune'):\n",
    "        return 2;\n",
    "    else:\n",
    "        return 3;      \n",
    "\n",
    "\n",
    "\n",
    "rdd1 = sc.parallelize(transactions, 3).map(lambda d: (d['city'], d))\n",
    "rdd1.collect()"
   ]
  },
  {
   "cell_type": "code",
   "execution_count": 3,
   "id": "c8696c83",
   "metadata": {},
   "outputs": [
    {
     "data": {
      "text/plain": [
       "[[('Chennai', {'name': 'Raju', 'amount': 100, 'city': 'Chennai'}),\n",
       "  ('Hyderabad', {'name': 'Mahesh', 'amount': 15, 'city': 'Hyderabad'}),\n",
       "  ('Vijayawada', {'name': 'Keertana', 'amount': 105, 'city': 'Vijayawada'})],\n",
       " [('Hyderabad', {'name': 'Madhu', 'amount': 51, 'city': 'Hyderabad'}),\n",
       "  ('Chennai', {'name': 'Revati', 'amount': 200, 'city': 'Chennai'}),\n",
       "  ('Pune', {'name': 'Amrita', 'amount': 75, 'city': 'Pune'})],\n",
       " [('Bangal   ore', {'name': 'Aditya', 'amount': 175, 'city': 'Bangal   ore'}),\n",
       "  ('Pune', {'name': 'Keertana', 'amount': 105, 'city': 'Pune'}),\n",
       "  ('Vijayawada', {'name': 'Keertana', 'amount': 105, 'city': 'Vijayawada'}),\n",
       "  ('Vijayawada', {'name': 'Keertana', 'amount': 105, 'city': 'Vijayawada'})]]"
      ]
     },
     "execution_count": 3,
     "metadata": {},
     "output_type": "execute_result"
    }
   ],
   "source": [
    "\n",
    "rdd1.glom().collect()"
   ]
  },
  {
   "cell_type": "code",
   "execution_count": 4,
   "id": "fdf2b5b4",
   "metadata": {},
   "outputs": [
    {
     "data": {
      "text/plain": [
       "[('Chennai', {'name': 'Raju', 'amount': 100, 'city': 'Chennai'}),\n",
       " ('Chennai', {'name': 'Revati', 'amount': 200, 'city': 'Chennai'}),\n",
       " ('Bangal   ore', {'name': 'Aditya', 'amount': 175, 'city': 'Bangal   ore'}),\n",
       " ('Hyderabad', {'name': 'Mahesh', 'amount': 15, 'city': 'Hyderabad'}),\n",
       " ('Vijayawada', {'name': 'Keertana', 'amount': 105, 'city': 'Vijayawada'}),\n",
       " ('Hyderabad', {'name': 'Madhu', 'amount': 51, 'city': 'Hyderabad'}),\n",
       " ('Vijayawada', {'name': 'Keertana', 'amount': 105, 'city': 'Vijayawada'}),\n",
       " ('Vijayawada', {'name': 'Keertana', 'amount': 105, 'city': 'Vijayawada'}),\n",
       " ('Pune', {'name': 'Amrita', 'amount': 75, 'city': 'Pune'}),\n",
       " ('Pune', {'name': 'Keertana', 'amount': 105, 'city': 'Pune'})]"
      ]
     },
     "execution_count": 4,
     "metadata": {},
     "output_type": "execute_result"
    }
   ],
   "source": [
    "rdd2 = rdd1.partitionBy(3, custom_partitioner)\n",
    "rdd2.collect()"
   ]
  },
  {
   "cell_type": "code",
   "execution_count": 5,
   "id": "f962dbda",
   "metadata": {},
   "outputs": [
    {
     "data": {
      "text/plain": [
       "[[('Chennai', {'name': 'Raju', 'amount': 100, 'city': 'Chennai'}),\n",
       "  ('Chennai', {'name': 'Revati', 'amount': 200, 'city': 'Chennai'}),\n",
       "  ('Bangal   ore', {'name': 'Aditya', 'amount': 175, 'city': 'Bangal   ore'})],\n",
       " [('Hyderabad', {'name': 'Mahesh', 'amount': 15, 'city': 'Hyderabad'}),\n",
       "  ('Vijayawada', {'name': 'Keertana', 'amount': 105, 'city': 'Vijayawada'}),\n",
       "  ('Hyderabad', {'name': 'Madhu', 'amount': 51, 'city': 'Hyderabad'}),\n",
       "  ('Vijayawada', {'name': 'Keertana', 'amount': 105, 'city': 'Vijayawada'}),\n",
       "  ('Vijayawada', {'name': 'Keertana', 'amount': 105, 'city': 'Vijayawada'})],\n",
       " [('Pune', {'name': 'Amrita', 'amount': 75, 'city': 'Pune'}),\n",
       "  ('Pune', {'name': 'Keertana', 'amount': 105, 'city': 'Pune'})]]"
      ]
     },
     "execution_count": 5,
     "metadata": {},
     "output_type": "execute_result"
    }
   ],
   "source": [
    "rdd2.glom().collect()\n"
   ]
  },
  {
   "cell_type": "code",
   "execution_count": 6,
   "id": "16ad9f0c",
   "metadata": {},
   "outputs": [],
   "source": [
    "sc.stop()"
   ]
  },
  {
   "cell_type": "code",
   "execution_count": null,
   "id": "da7bf011",
   "metadata": {},
   "outputs": [],
   "source": []
  }
 ],
 "metadata": {
  "kernelspec": {
   "display_name": "Python 3 (ipykernel)",
   "language": "python",
   "name": "python3"
  },
  "language_info": {
   "codemirror_mode": {
    "name": "ipython",
    "version": 3
   },
   "file_extension": ".py",
   "mimetype": "text/x-python",
   "name": "python",
   "nbconvert_exporter": "python",
   "pygments_lexer": "ipython3",
   "version": "3.9.7"
  }
 },
 "nbformat": 4,
 "nbformat_minor": 5
}
